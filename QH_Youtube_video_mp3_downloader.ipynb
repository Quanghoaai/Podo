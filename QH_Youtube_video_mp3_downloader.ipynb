{
  "nbformat": 4,
  "nbformat_minor": 0,
  "metadata": {
    "colab": {
      "provenance": [],
      "authorship_tag": "ABX9TyNkxHqqh8AgnjwKqhHHNeMS",
      "include_colab_link": true
    },
    "kernelspec": {
      "name": "python3",
      "display_name": "Python 3"
    },
    "language_info": {
      "name": "python"
    }
  },
  "cells": [
    {
      "cell_type": "markdown",
      "metadata": {
        "id": "view-in-github",
        "colab_type": "text"
      },
      "source": [
        "<a href=\"https://colab.research.google.com/github/Quanghoaai/Podo/blob/main/QH_Youtube_video_mp3_downloader.ipynb\" target=\"_parent\"><img src=\"https://colab.research.google.com/assets/colab-badge.svg\" alt=\"Open In Colab\"/></a>"
      ]
    },
    {
      "cell_type": "code",
      "execution_count": 1,
      "metadata": {
        "colab": {
          "base_uri": "https://localhost:8080/",
          "height": 206
        },
        "id": "V6vKO_igGlSb",
        "outputId": "771ff821-4a6a-4d58-a49f-4bcd0865bb55"
      },
      "outputs": [
        {
          "output_type": "stream",
          "name": "stdout",
          "text": [
            "Collecting pytube\n",
            "  Downloading pytube-15.0.0-py3-none-any.whl.metadata (5.0 kB)\n",
            "Downloading pytube-15.0.0-py3-none-any.whl (57 kB)\n",
            "\u001b[?25l   \u001b[90m━━━━━━━━━━━━━━━━━━━━━━━━━━━━━━━━━━━━━━━━\u001b[0m \u001b[32m0.0/57.6 kB\u001b[0m \u001b[31m?\u001b[0m eta \u001b[36m-:--:--\u001b[0m\r\u001b[2K   \u001b[90m━━━━━━━━━━━━━━━━━━━━━━━━━━━━━━━━━━━━━━━━\u001b[0m \u001b[32m57.6/57.6 kB\u001b[0m \u001b[31m2.3 MB/s\u001b[0m eta \u001b[36m0:00:00\u001b[0m\n",
            "\u001b[?25hInstalling collected packages: pytube\n",
            "Successfully installed pytube-15.0.0\n",
            "Please paste your YouTube link: https://www.youtube.com/watch?v=PVLcXfok2U8\n",
            "Mp3 or Mp4? (Type 'mp3' or 'mp4'): mp3\n",
            "Mp3 file is downloading...\n"
          ]
        },
        {
          "output_type": "execute_result",
          "data": {
            "text/plain": [
              "'An error occurred: HTTP Error 403: Forbidden'"
            ],
            "application/vnd.google.colaboratory.intrinsic+json": {
              "type": "string"
            }
          },
          "metadata": {},
          "execution_count": 1
        }
      ],
      "source": [
        "# Install pytube library if not already installed\n",
        "!pip install pytube\n",
        "\n",
        "def Downloader():\n",
        "    import pytube  # Import the pytube library\n",
        "\n",
        "    # Take input from the user\n",
        "    url = input(\"Please paste your YouTube link: \")  # URL of the YouTube video\n",
        "    MediaType = input(\"Mp3 or Mp4? (Type 'mp3' or 'mp4'): \").lower()  # Specify whether to download mp3 or mp4\n",
        "    path = \"/content/sample_data\"  # Path where the file will be saved in Google Colab\n",
        "\n",
        "    try:\n",
        "        # Check if the user wants to download an MP4 video\n",
        "        if MediaType == 'mp4':\n",
        "            print(\"Mp4 file is downloading...\")\n",
        "            # Download the highest resolution video stream\n",
        "            pytube.YouTube(url).streams.get_highest_resolution().download(output_path=path, filename=\"video.mp4\")\n",
        "\n",
        "        # If the user wants to download an MP3 audio file\n",
        "        elif MediaType == 'mp3':\n",
        "            print(\"Mp3 file is downloading...\")\n",
        "            # Download only the audio stream\n",
        "            pytube.YouTube(url).streams.get_audio_only().download(output_path=path, filename=\"audio.mp3\")\n",
        "\n",
        "        # Handle invalid input for MediaType\n",
        "        else:\n",
        "            return \"Invalid media type. Please type 'mp3' or 'mp4'.\"\n",
        "\n",
        "    except Exception as e:\n",
        "        return f\"An error occurred: {e}\"\n",
        "\n",
        "    return 'Download finished.'\n",
        "\n",
        "# Call the function to start downloading\n",
        "Downloader()"
      ]
    },
    {
      "cell_type": "code",
      "source": [
        "# Install yt-dlp library\n",
        "!pip install yt-dlp\n",
        "\n",
        "def Downloader():\n",
        "    import yt_dlp  # Import the yt-dlp library\n",
        "\n",
        "    # Take input from the user\n",
        "    url = input(\"Please paste your YouTube link: \")  # URL of the YouTube video\n",
        "    MediaType = input(\"Mp3 or Mp4? (Type 'mp3' or 'mp4'): \").lower()  # Specify whether to download mp3 or mp4\n",
        "    path = \"/content/sample_data\"  # Path where the file will be saved in Google Colab\n",
        "\n",
        "    try:\n",
        "        if MediaType == 'mp4':\n",
        "            print(\"Mp4 file is downloading...\")\n",
        "            ydl_opts = {\n",
        "                'format': 'bestvideo+bestaudio/best',  # Download the best video + audio quality\n",
        "                'outtmpl': f'{path}/video.%(ext)s',  # Output file name\n",
        "            }\n",
        "        elif MediaType == 'mp3':\n",
        "            print(\"Mp3 file is downloading...\")\n",
        "            ydl_opts = {\n",
        "                'format': 'bestaudio/best',  # Download the best audio quality\n",
        "                'postprocessors': [{\n",
        "                    'key': 'FFmpegExtractAudio',\n",
        "                    'preferredcodec': 'mp3',  # Convert to MP3\n",
        "                    'preferredquality': '192',  # Audio quality\n",
        "                }],\n",
        "                'outtmpl': f'{path}/audio.%(ext)s',  # Output file name\n",
        "            }\n",
        "        else:\n",
        "            return \"Invalid media type. Please type 'mp3' or 'mp4'.\"\n",
        "\n",
        "        # Download the file using yt-dlp\n",
        "        with yt_dlp.YoutubeDL(ydl_opts) as ydl:\n",
        "            ydl.download([url])\n",
        "\n",
        "    except Exception as e:\n",
        "        import traceback\n",
        "        traceback.print_exc()\n",
        "        return f\"An error occurred: {e}\"\n",
        "\n",
        "    return 'Download finished.'\n",
        "\n",
        "# Call the function to start downloading\n",
        "Downloader()"
      ],
      "metadata": {
        "colab": {
          "base_uri": "https://localhost:8080/"
        },
        "id": "Lty4EELiHhWq",
        "outputId": "6b7532a0-8ae6-4916-ec1e-66c8362a3634"
      },
      "execution_count": null,
      "outputs": [
        {
          "output_type": "stream",
          "name": "stdout",
          "text": [
            "Requirement already satisfied: yt-dlp in /usr/local/lib/python3.11/dist-packages (2025.1.26)\n",
            "Please paste your YouTube link: https://www.youtube.com/watch?v=PVLcXfok2U8\n",
            "Mp3 or Mp4? (Type 'mp3' or 'mp4'): mp3\n",
            "Mp3 file is downloading...\n",
            "[youtube] Extracting URL: https://www.youtube.com/watch?v=PVLcXfok2U8\n",
            "[youtube] PVLcXfok2U8: Downloading webpage\n",
            "[youtube] PVLcXfok2U8: Downloading tv client config\n",
            "[youtube] PVLcXfok2U8: Downloading player e7567ecf\n",
            "[youtube] PVLcXfok2U8: Downloading tv player API JSON\n",
            "[youtube] PVLcXfok2U8: Downloading ios player API JSON\n",
            "[youtube] PVLcXfok2U8: Downloading m3u8 information\n",
            "[info] PVLcXfok2U8: Downloading 1 format(s): 251\n",
            "[download] Destination: /content/sample_data/audio.webm\n",
            "[download] 100% of   46.23MiB in 00:00:03 at 13.64MiB/s  \n",
            "[ExtractAudio] Destination: /content/sample_data/audio.mp3\n"
          ]
        }
      ]
    }
  ]
}