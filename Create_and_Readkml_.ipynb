{
  "nbformat": 4,
  "nbformat_minor": 0,
  "metadata": {
    "colab": {
      "provenance": [],
      "authorship_tag": "ABX9TyOFiQBUOBSp0qAvoxwuKeJt",
      "include_colab_link": true
    },
    "kernelspec": {
      "name": "python3",
      "display_name": "Python 3"
    },
    "language_info": {
      "name": "python"
    }
  },
  "cells": [
    {
      "cell_type": "markdown",
      "metadata": {
        "id": "view-in-github",
        "colab_type": "text"
      },
      "source": [
        "<a href=\"https://colab.research.google.com/github/Quanghoaai/Podo/blob/main/Create_and_Readkml_.ipynb\" target=\"_parent\"><img src=\"https://colab.research.google.com/assets/colab-badge.svg\" alt=\"Open In Colab\"/></a>"
      ]
    },
    {
      "source": [
        "from fastkml.utils import find_all\n",
        "from fastkml import KML\n",
        "from fastkml import Placemark\n",
        "\n",
        "# Disable validation\n",
        "k = KML.parse(\"/content/Số 1 Lê Đức Thọ - MX 8FO Ngõ 58 Trần Bình(Hướng 2).kml\", validate=False)\n",
        "\n",
        "placemarks = find_all(k, of_type=Placemark)\n",
        "\n",
        "for p in placemarks:\n",
        "    print(p.geometry)"
      ],
      "cell_type": "code",
      "metadata": {
        "colab": {
          "base_uri": "https://localhost:8080/"
        },
        "id": "Xe83weOqMths",
        "outputId": "a94e0432-4a8c-43a9-eee4-942027e243c0"
      },
      "execution_count": null,
      "outputs": [
        {
          "output_type": "stream",
          "name": "stdout",
          "text": [
            "LINESTRING Z (105.772205 21.03649 0.0, 105.772181 21.036426 0.0, 105.772602 21.036302 0.0, 105.772648 21.036202 0.0, 105.773076 21.036066 0.0, 105.773191 21.036094 0.0, 105.77318 21.036024 0.0, 105.773254 21.036009 0.0, 105.772824 21.03465 0.0, 105.773057 21.034437 0.0, 105.773312 21.034191 0.0, 105.773409 21.034231 0.0, 105.773571 21.034852 0.0, 105.773642 21.034843 0.0, 105.773968 21.035882 0.0, 105.774808 21.035693 0.0, 105.774917 21.035637 0.0, 105.774991 21.035516 0.0, 105.77512 21.035338 0.0, 105.77538 21.035209 0.0, 105.775641 21.035068 0.0, 105.775921 21.034993 0.0, 105.77611 21.034994 0.0, 105.776285 21.034929 0.0, 105.776438 21.034895 0.0, 105.776572 21.034893 0.0, 105.777141 21.034829 0.0, 105.777582 21.03475 0.0, 105.777946 21.034746 0.0, 105.778063 21.034713 0.0, 105.778257 21.034675 0.0, 105.778505 21.0346 0.0)\n"
          ]
        }
      ]
    },
    {
      "source": [
        "!pip install pandas simplekml shapely\n",
        "\n",
        "import pandas as pd\n",
        "import simplekml\n",
        "from shapely import wkt\n",
        "import re\n",
        "\n",
        "# Read the CSV file\n",
        "df = pd.read_csv('/content/Thông tin tuyến cáp- ANTV - MX Lê Đức Thọ.kml.csv')\n",
        "\n",
        "# Create a KML object\n",
        "kml = simplekml.Kml()\n",
        "\n",
        "for index, row in df.iterrows():\n",
        "    # Extract the LineString data from the 'WKT' column\n",
        "    linestring_data = row['WKT']\n",
        "\n",
        "    # Extract coordinates using a regular expression\n",
        "    # This regex finds all groups of numbers (with optional decimals) separated by spaces\n",
        "    # within the parentheses of the LINESTRING definition\n",
        "    match = re.search(r\"LINESTRING \\(([^)]+)\\)\", linestring_data)\n",
        "    if match:\n",
        "        coordinates_str = match.group(1)\n",
        "        # Split the coordinates string into individual coordinate sets\n",
        "        coordinate_sets = coordinates_str.split(\", \")\n",
        "\n",
        "        # Convert coordinate sets to tuples of floats\n",
        "        points = []\n",
        "        for coordinate_set in coordinate_sets:\n",
        "            # Split each coordinate set into individual coordinates (x, y, z)\n",
        "            coordinates = coordinate_set.split()\n",
        "            # Convert coordinates to floats and append as a tuple to points\n",
        "            points.append(tuple(map(float, coordinates)))\n",
        "\n",
        "        # Create a LineString in KML with the extracted points\n",
        "        ls = kml.newlinestring(name=f\"LineString {index}\")\n",
        "        ls.coords = points\n",
        "\n",
        "# Save the KML file\n",
        "kml.save('linestrings.kml')\n",
        "\n",
        "print(\"KML file 'linestrings.kml' created successfully!\")"
      ],
      "cell_type": "code",
      "metadata": {
        "colab": {
          "base_uri": "https://localhost:8080/"
        },
        "id": "HKHscCvcPRur",
        "outputId": "fd24cee9-9693-4721-b806-bc948e5103c7"
      },
      "execution_count": null,
      "outputs": [
        {
          "output_type": "stream",
          "name": "stdout",
          "text": [
            "Requirement already satisfied: pandas in /usr/local/lib/python3.11/dist-packages (2.2.2)\n",
            "Requirement already satisfied: simplekml in /usr/local/lib/python3.11/dist-packages (1.3.6)\n",
            "Requirement already satisfied: shapely in /usr/local/lib/python3.11/dist-packages (2.0.7)\n",
            "Requirement already satisfied: numpy>=1.23.2 in /usr/local/lib/python3.11/dist-packages (from pandas) (1.26.4)\n",
            "Requirement already satisfied: python-dateutil>=2.8.2 in /usr/local/lib/python3.11/dist-packages (from pandas) (2.8.2)\n",
            "Requirement already satisfied: pytz>=2020.1 in /usr/local/lib/python3.11/dist-packages (from pandas) (2025.1)\n",
            "Requirement already satisfied: tzdata>=2022.7 in /usr/local/lib/python3.11/dist-packages (from pandas) (2025.1)\n",
            "Requirement already satisfied: six>=1.5 in /usr/local/lib/python3.11/dist-packages (from python-dateutil>=2.8.2->pandas) (1.17.0)\n",
            "KML file 'linestrings.kml' created successfully!\n"
          ]
        }
      ]
    },
    {
      "source": [
        "!pip install pandas simplekml shapely\n",
        "\n",
        "import pandas as pd\n",
        "import simplekml\n",
        "from shapely import wkt\n",
        "import re\n",
        "\n",
        "# Read the CSV file\n",
        "df = pd.read_csv('/content/Thông tin tuyến cáp- ANTV - MX Lê Đức Thọ.kml.csv')\n",
        "\n",
        "# Create a KML object\n",
        "kml = simplekml.Kml()\n",
        "\n",
        "for index, row in df.iterrows():\n",
        "    # Extract the LineString data from the 'WKT' column\n",
        "    linestring_data = row['WKT']\n",
        "\n",
        "    # Extract coordinates using a regular expression\n",
        "    match = re.search(r\"LINESTRING \\(([^)]+)\\)\", linestring_data)\n",
        "    if match:\n",
        "        coordinates_str = match.group(1)\n",
        "        coordinate_sets = coordinates_str.split(\", \")\n",
        "        points = []\n",
        "        for coordinate_set in coordinate_sets:\n",
        "            coordinates = coordinate_set.split()\n",
        "            points.append(tuple(map(float, coordinates)))\n",
        "\n",
        "        # Create a LineString in KML with the extracted points\n",
        "        ls = kml.newlinestring(name=f\"LineString {index}\")\n",
        "        ls.coords = points\n",
        "\n",
        "        # Add notes after \"LINESTRING Z\" (using extended data)\n",
        "        # Assuming 'Ghi chú' column contains the notes\n",
        "        notes = row['Ghi chú']\n",
        "        ls.extendeddata.newdata(name='Notes', value=notes)\n",
        "\n",
        "# Save the KML file\n",
        "kml.save('linestrings.kml')\n",
        "\n",
        "print(\"KML file 'linestrings.kml' created successfully!\")"
      ],
      "cell_type": "code",
      "metadata": {
        "colab": {
          "base_uri": "https://localhost:8080/"
        },
        "id": "9tX0qGnPP0ge",
        "outputId": "2efcf581-ab0d-45b1-9db2-98a33125b2b8"
      },
      "execution_count": 32,
      "outputs": [
        {
          "output_type": "stream",
          "name": "stdout",
          "text": [
            "Requirement already satisfied: pandas in /usr/local/lib/python3.11/dist-packages (2.2.2)\n",
            "Requirement already satisfied: simplekml in /usr/local/lib/python3.11/dist-packages (1.3.6)\n",
            "Requirement already satisfied: shapely in /usr/local/lib/python3.11/dist-packages (2.0.7)\n",
            "Requirement already satisfied: numpy>=1.23.2 in /usr/local/lib/python3.11/dist-packages (from pandas) (1.26.4)\n",
            "Requirement already satisfied: python-dateutil>=2.8.2 in /usr/local/lib/python3.11/dist-packages (from pandas) (2.8.2)\n",
            "Requirement already satisfied: pytz>=2020.1 in /usr/local/lib/python3.11/dist-packages (from pandas) (2025.1)\n",
            "Requirement already satisfied: tzdata>=2022.7 in /usr/local/lib/python3.11/dist-packages (from pandas) (2025.1)\n",
            "Requirement already satisfied: six>=1.5 in /usr/local/lib/python3.11/dist-packages (from python-dateutil>=2.8.2->pandas) (1.17.0)\n",
            "KML file 'linestrings.kml' created successfully!\n"
          ]
        }
      ]
    },
    {
      "source": [
        "!pip install pandas simplekml shapely\n",
        "\n",
        "import pandas as pd\n",
        "import simplekml\n",
        "from shapely import wkt\n",
        "import re\n",
        "import xml.sax.saxutils  # Import the saxutils module for escaping\n",
        "\n",
        "\n",
        "# Read the CSV file\n",
        "df = pd.read_csv('/content/Ring HN - TT cáp.csv')\n",
        "\n",
        "# Create a KML object\n",
        "kml = simplekml.Kml()\n",
        "\n",
        "for index, row in df.iterrows():\n",
        "    # Extract the LineString data from the 'WKT' column\n",
        "    linestring_data = row['WKT']\n",
        "\n",
        "    # Extract coordinates using a regular expression\n",
        "    match = re.search(r\"LINESTRING \\(([^)]+)\\)\", linestring_data)\n",
        "    if match:\n",
        "        coordinates_str = match.group(1)\n",
        "        coordinate_sets = coordinates_str.split(\", \")\n",
        "        points = []\n",
        "        for coordinate_set in coordinate_sets:\n",
        "            coordinates = coordinate_set.split()\n",
        "            points.append(tuple(map(float, coordinates)))\n",
        "\n",
        "        # Create a LineString in KML with the extracted points\n",
        "        ls = kml.newlinestring(name=f\"LineString {index}\")\n",
        "        ls.coords = points\n",
        "\n",
        "        # Add notes after \"LINESTRING Z\" (using extended data)\n",
        "        # Assuming 'Ghi chú' column contains the notes\n",
        "        notes = row['Ghi chú']\n",
        "\n",
        "        # Convert notes to string if it's not already\n",
        "        if not isinstance(notes, str):\n",
        "            notes = str(notes)\n",
        "\n",
        "        # Escape special characters in the notes before adding to KML\n",
        "        escaped_notes = xml.sax.saxutils.escape(notes)\n",
        "        ls.extendeddata.newdata(name='Notes', value=escaped_notes)\n",
        "\n",
        "# Save the KML file\n",
        "kml.save('linestrings.kml')\n",
        "\n",
        "print(\"KML file 'linestrings.kml' created successfully!\")"
      ],
      "cell_type": "code",
      "metadata": {
        "colab": {
          "base_uri": "https://localhost:8080/"
        },
        "id": "1Vu7J-sCZyqe",
        "outputId": "82b14fe5-c25c-454f-8bf2-03a80743f542"
      },
      "execution_count": 34,
      "outputs": [
        {
          "output_type": "stream",
          "name": "stdout",
          "text": [
            "Requirement already satisfied: pandas in /usr/local/lib/python3.11/dist-packages (2.2.2)\n",
            "Requirement already satisfied: simplekml in /usr/local/lib/python3.11/dist-packages (1.3.6)\n",
            "Requirement already satisfied: shapely in /usr/local/lib/python3.11/dist-packages (2.0.7)\n",
            "Requirement already satisfied: numpy>=1.23.2 in /usr/local/lib/python3.11/dist-packages (from pandas) (1.26.4)\n",
            "Requirement already satisfied: python-dateutil>=2.8.2 in /usr/local/lib/python3.11/dist-packages (from pandas) (2.8.2)\n",
            "Requirement already satisfied: pytz>=2020.1 in /usr/local/lib/python3.11/dist-packages (from pandas) (2025.1)\n",
            "Requirement already satisfied: tzdata>=2022.7 in /usr/local/lib/python3.11/dist-packages (from pandas) (2025.1)\n",
            "Requirement already satisfied: six>=1.5 in /usr/local/lib/python3.11/dist-packages (from python-dateutil>=2.8.2->pandas) (1.17.0)\n",
            "KML file 'linestrings.kml' created successfully!\n"
          ]
        }
      ]
    },
    {
      "source": [
        "# Hòa note code chuẩn full cột CSV và KML\n",
        "\n",
        "!pip install pandas simplekml shapely\n",
        "\n",
        "import pandas as pd\n",
        "import simplekml\n",
        "from shapely import wkt\n",
        "import re\n",
        "import xml.sax.saxutils  # Import the saxutils module for escaping\n",
        "\n",
        "# Read the CSV file\n",
        "df = pd.read_csv('/content/Ring HN - TT cáp.csv')\n",
        "\n",
        "# Create a KML object\n",
        "kml = simplekml.Kml()\n",
        "\n",
        "# Define the columns to include in the extended data\n",
        "columns_to_include = ['WKT', 'Name', 'Near End', 'Far End', 'Cable Type', 'Cable length (km)',\n",
        "                      'Số lượng Măng xông', 'Số link mạng + Khách hàng', 'Số sợi sử dụng',\n",
        "                      'Số sợi khả dụng', 'Hạ tầng ngầm', 'Hạ tầng treo', 'mô tả', 'Link', 'Ghi chú']\n",
        "\n",
        "for index, row in df.iterrows():\n",
        "    # Extract the LineString data from the 'WKT' column\n",
        "    linestring_data = row['WKT']\n",
        "\n",
        "    # Extract coordinates using a regular expression\n",
        "    match = re.search(r\"LINESTRING \\(([^)]+)\\)\", linestring_data)\n",
        "    if match:\n",
        "        coordinates_str = match.group(1)\n",
        "        coordinate_sets = coordinates_str.split(\", \")\n",
        "        points = []\n",
        "        for coordinate_set in coordinate_sets:\n",
        "            coordinates = coordinate_set.split()\n",
        "            points.append(tuple(map(float, coordinates)))\n",
        "\n",
        "        # Create a LineString in KML with the extracted points\n",
        "        ls = kml.newlinestring(name=f\"LineString {index}\")\n",
        "        ls.coords = points\n",
        "\n",
        "        # Add all desired columns to extended data\n",
        "        for column_name in columns_to_include:\n",
        "            value = row[column_name]\n",
        "            # Convert value to string if it's not already\n",
        "            if not isinstance(value, str):\n",
        "                value = str(value)\n",
        "            # Escape special characters in the value\n",
        "            escaped_value = xml.sax.saxutils.escape(value)\n",
        "            ls.extendeddata.newdata(name=column_name, value=escaped_value)\n",
        "\n",
        "# Save the KML file\n",
        "kml.save('linestrings.kml')\n",
        "\n",
        "print(\"KML file 'linestrings.kml' created successfully!\")"
      ],
      "cell_type": "code",
      "metadata": {
        "colab": {
          "base_uri": "https://localhost:8080/"
        },
        "id": "y0WxeShYaOXL",
        "outputId": "d78488b9-8acd-4a15-d137-5cd1cd4292d0"
      },
      "execution_count": 35,
      "outputs": [
        {
          "output_type": "stream",
          "name": "stdout",
          "text": [
            "Requirement already satisfied: pandas in /usr/local/lib/python3.11/dist-packages (2.2.2)\n",
            "Requirement already satisfied: simplekml in /usr/local/lib/python3.11/dist-packages (1.3.6)\n",
            "Requirement already satisfied: shapely in /usr/local/lib/python3.11/dist-packages (2.0.7)\n",
            "Requirement already satisfied: numpy>=1.23.2 in /usr/local/lib/python3.11/dist-packages (from pandas) (1.26.4)\n",
            "Requirement already satisfied: python-dateutil>=2.8.2 in /usr/local/lib/python3.11/dist-packages (from pandas) (2.8.2)\n",
            "Requirement already satisfied: pytz>=2020.1 in /usr/local/lib/python3.11/dist-packages (from pandas) (2025.1)\n",
            "Requirement already satisfied: tzdata>=2022.7 in /usr/local/lib/python3.11/dist-packages (from pandas) (2025.1)\n",
            "Requirement already satisfied: six>=1.5 in /usr/local/lib/python3.11/dist-packages (from python-dateutil>=2.8.2->pandas) (1.17.0)\n",
            "KML file 'linestrings.kml' created successfully!\n"
          ]
        }
      ]
    },
    {
      "source": [
        "!pip install pandas simplekml shapely\n",
        "\n",
        "import pandas as pd\n",
        "import simplekml\n",
        "from shapely import wkt\n",
        "import re\n",
        "import xml.sax.saxutils  # Import the saxutils module for escaping\n",
        "\n",
        "# Read the CSV file\n",
        "df = pd.read_csv('/content/Ring HN - TT cáp.csv')\n",
        "\n",
        "# Create a KML object\n",
        "kml = simplekml.Kml()\n",
        "\n",
        "# Define the columns to include in the extended data (excluding 'WKT')\n",
        "columns_to_include = ['Name', 'Near End', 'Far End', 'Cable Type', 'Cable length (km)',\n",
        "                      'Số lượng Măng xông', 'Số link mạng + Khách hàng', 'Số sợi sử dụng',\n",
        "                      'Số sợi khả dụng', 'Hạ tầng ngầm', 'Hạ tầng treo', 'mô tả', 'Link', 'Ghi chú']\n",
        "\n",
        "for index, row in df.iterrows():\n",
        "    # Extract the LineString data from the 'WKT' column\n",
        "    linestring_data = row['WKT']\n",
        "\n",
        "    # Extract coordinates using a regular expression\n",
        "    match = re.search(r\"LINESTRING \\(([^)]+)\\)\", linestring_data)\n",
        "    if match:\n",
        "        coordinates_str = match.group(1)\n",
        "        coordinate_sets = coordinates_str.split(\", \")\n",
        "        points = []\n",
        "        for coordinate_set in coordinate_sets:\n",
        "            coordinates = coordinate_set.split()\n",
        "            points.append(tuple(map(float, coordinates)))\n",
        "\n",
        "        # Create a LineString in KML with the extracted points\n",
        "        ls = kml.newlinestring(name=f\"LineString {index}\")\n",
        "        ls.coords = points\n",
        "\n",
        "        # Add all desired columns to extended data\n",
        "        for column_name in columns_to_include:\n",
        "            value = row[column_name]\n",
        "            # Convert value to string if it's not already\n",
        "            if not isinstance(value, str):\n",
        "                value = str(value)\n",
        "            # Escape special characters in the value\n",
        "            escaped_value = xml.sax.saxutils.escape(value)\n",
        "            ls.extendeddata.newdata(name=column_name, value=escaped_value)\n",
        "\n",
        "# Save the KML file\n",
        "kml.save('linestrings.kml')\n",
        "\n",
        "print(\"KML file 'linestrings.kml' created successfully!\")"
      ],
      "cell_type": "code",
      "metadata": {
        "colab": {
          "base_uri": "https://localhost:8080/"
        },
        "id": "vXlbmVK_ar3Y",
        "outputId": "c812a6e4-8c53-4364-b0f8-17bb098e93f0"
      },
      "execution_count": 36,
      "outputs": [
        {
          "output_type": "stream",
          "name": "stdout",
          "text": [
            "Requirement already satisfied: pandas in /usr/local/lib/python3.11/dist-packages (2.2.2)\n",
            "Requirement already satisfied: simplekml in /usr/local/lib/python3.11/dist-packages (1.3.6)\n",
            "Requirement already satisfied: shapely in /usr/local/lib/python3.11/dist-packages (2.0.7)\n",
            "Requirement already satisfied: numpy>=1.23.2 in /usr/local/lib/python3.11/dist-packages (from pandas) (1.26.4)\n",
            "Requirement already satisfied: python-dateutil>=2.8.2 in /usr/local/lib/python3.11/dist-packages (from pandas) (2.8.2)\n",
            "Requirement already satisfied: pytz>=2020.1 in /usr/local/lib/python3.11/dist-packages (from pandas) (2025.1)\n",
            "Requirement already satisfied: tzdata>=2022.7 in /usr/local/lib/python3.11/dist-packages (from pandas) (2025.1)\n",
            "Requirement already satisfied: six>=1.5 in /usr/local/lib/python3.11/dist-packages (from python-dateutil>=2.8.2->pandas) (1.17.0)\n",
            "KML file 'linestrings.kml' created successfully!\n"
          ]
        }
      ]
    },
    {
      "source": [
        "!pip install pandas simplekml shapely\n",
        "\n",
        "import pandas as pd\n",
        "import simplekml\n",
        "from shapely import wkt\n",
        "import re\n",
        "import xml.sax.saxutils  # Import the saxutils module for escaping\n",
        "import os  # Import the os module for file operations\n",
        "\n",
        "# Check if the CSV file exists\n",
        "csv_file_path = '/content/Ring HN - TT cáp.csv'\n",
        "if not os.path.exists(csv_file_path):\n",
        "    # If the CSV file doesn't exist, create a sample DataFrame\n",
        "    # Replace this with your actual data if needed\n",
        "    data = {'WKT': ['LINESTRING (105.8369627 21.0356424, 105.8369627 21.0356424)'],\n",
        "            'Name': ['Sample Line'],\n",
        "            'Near End': ['Point A'],\n",
        "            'Far End': ['Point B'],\n",
        "            'Cable Type': ['Fiber'],\n",
        "            'Cable length (km)': [10.5],\n",
        "            'Số lượng Măng xông': [5],\n",
        "            'Số link mạng + Khách hàng': [2],\n",
        "            'Số sợi sử dụng': [100],\n",
        "            'Số sợi khả dụng': [50],\n",
        "            'Hạ tầng ngầm': ['Yes'],\n",
        "            'Hạ tầng treo': ['No'],\n",
        "            'mô tả': ['Sample description'],\n",
        "            'Link': ['https://example.com'],\n",
        "            'Ghi chú': ['Sample notes']\n",
        "            }\n",
        "    df = pd.DataFrame(data)\n",
        "    # Save the DataFrame to a CSV file\n",
        "    df.to_csv(csv_file_path, index=False)\n",
        "    print(f\"CSV file '{csv_file_path}' created.\")\n",
        "\n",
        "# Now read the CSV file (it should exist now)\n",
        "df = pd.read_csv(csv_file_path)\n",
        "\n",
        "\n",
        "# Create a KML object\n",
        "kml = simplekml.Kml()\n",
        "\n",
        "# Define the columns to include in the extended data (including 'WKT')\n",
        "columns_to_include = ['WKT', 'Name', 'Near End', 'Far End', 'Cable Type', 'Cable length (km)',\n",
        "                      'Số lượng Măng xông', 'Số link mạng + Khách hàng', 'Số sợi sử dụng',\n",
        "                      'Số sợi khả dụng', 'Hạ tầng ngầm', 'Hạ tầng treo', 'mô tả', 'Link', 'Ghi chú']\n",
        "\n",
        "for index, row in df.iterrows():\n",
        "    # Extract the LineString data from the 'WKT' column\n",
        "    linestring_data = row['WKT']\n",
        "\n",
        "    # Extract coordinates using a regular expression\n",
        "    match = re.search(r\"LINESTRING \\(([^)]+)\\)\", linestring_data)\n",
        "    if match:\n",
        "        coordinates_str = match.group(1)\n",
        "        coordinate_sets = coordinates_str.split(\", \")\n",
        "        points = []\n",
        "        for coordinate_set in coordinate_sets:\n",
        "            coordinates = coordinate_set.split()\n",
        "            points.append(tuple(map(float, coordinates)))\n",
        "\n",
        "        # Create a LineString in KML with the extracted points\n",
        "        ls = kml.newlinestring(name=f\"LineString {index}\")\n",
        "        ls.coords = points\n",
        "\n",
        "        # Add all desired columns to extended data\n",
        "        for column_name in columns_to_include:\n",
        "            value = row[column_name]\n",
        "            # Convert value to string if it's not already\n",
        "            if not isinstance(value, str):\n",
        "                value = str(value)\n",
        "            # Escape special characters in the value\n",
        "            escaped_value = xml.sax.saxutils.escape(value)\n",
        "            ls.extendeddata.newdata(name=column_name, value=escaped_value)\n",
        "\n",
        "# Save the KML file\n",
        "kml.save('linestrings.kml')\n",
        "\n",
        "print(\"KML file 'linestrings.kml' created successfully!\")"
      ],
      "cell_type": "code",
      "metadata": {
        "colab": {
          "base_uri": "https://localhost:8080/"
        },
        "id": "wGsvCkYwbmXh",
        "outputId": "9182df17-055d-4deb-e6c8-8266fc9f4a07"
      },
      "execution_count": 38,
      "outputs": [
        {
          "output_type": "stream",
          "name": "stdout",
          "text": [
            "Requirement already satisfied: pandas in /usr/local/lib/python3.11/dist-packages (2.2.2)\n",
            "Requirement already satisfied: simplekml in /usr/local/lib/python3.11/dist-packages (1.3.6)\n",
            "Requirement already satisfied: shapely in /usr/local/lib/python3.11/dist-packages (2.0.7)\n",
            "Requirement already satisfied: numpy>=1.23.2 in /usr/local/lib/python3.11/dist-packages (from pandas) (1.26.4)\n",
            "Requirement already satisfied: python-dateutil>=2.8.2 in /usr/local/lib/python3.11/dist-packages (from pandas) (2.8.2)\n",
            "Requirement already satisfied: pytz>=2020.1 in /usr/local/lib/python3.11/dist-packages (from pandas) (2025.1)\n",
            "Requirement already satisfied: tzdata>=2022.7 in /usr/local/lib/python3.11/dist-packages (from pandas) (2025.1)\n",
            "Requirement already satisfied: six>=1.5 in /usr/local/lib/python3.11/dist-packages (from python-dateutil>=2.8.2->pandas) (1.17.0)\n",
            "KML file 'linestrings.kml' created successfully!\n"
          ]
        }
      ]
    },
    {
      "source": [
        "import pandas as pd\n",
        "\n",
        "# Sample data for the CSV file\n",
        "# Replace this with your actual data\n",
        "data = {'WKT': ['LINESTRING (105.8369627 21.0356424, 105.8369627 21.0356424)'],\n",
        "        'Name': ['Sample Line'],\n",
        "        'Near End': ['Point A'],\n",
        "        'Far End': ['Point B'],\n",
        "        'Cable Type': ['Fiber'],\n",
        "        'Cable length (km)': [10.5],\n",
        "        'Số lượng Măng xông': [5],\n",
        "        'Số link mạng + Khách hàng': [2],\n",
        "        'Số sợi sử dụng': [100],\n",
        "        'Số sợi khả dụng': [50],\n",
        "        'Hạ tầng ngầm': ['Yes'],\n",
        "        'Hạ tầng treo': ['No'],\n",
        "        'mô tả': ['Sample description'],\n",
        "        'Link': ['https://example.com'],\n",
        "        'Ghi chú': ['Sample notes']\n",
        "        }\n",
        "\n",
        "# Create a DataFrame from the data\n",
        "df = pd.DataFrame(data)\n",
        "\n",
        "# Save the DataFrame to a CSV file\n",
        "csv_file_path = '/content/Ring HN - TT cáp.csv'  # Specify the path for the CSV file\n",
        "df.to_csv(csv_file_path, index=False)  # Save to CSV, index=False to avoid row numbers\n",
        "\n",
        "print(f\"CSV file '{csv_file_path}' created.\")"
      ],
      "cell_type": "code",
      "metadata": {
        "colab": {
          "base_uri": "https://localhost:8080/"
        },
        "id": "X_VST4PrcP3c",
        "outputId": "b27f4664-4b8b-4076-a6ab-288effad6ec5"
      },
      "execution_count": 41,
      "outputs": [
        {
          "output_type": "stream",
          "name": "stdout",
          "text": [
            "CSV file '/content/Ring HN - TT cáp.csv' created.\n"
          ]
        }
      ]
    },
    {
      "source": [
        "!pip install pandas simplekml shapely\n",
        "\n",
        "import pandas as pd\n",
        "import simplekml\n",
        "from shapely import wkt\n",
        "import re\n",
        "import xml.sax.saxutils  # Import the saxutils module for escaping\n",
        "\n",
        "# Read the CSV file\n",
        "csv_file_path = '/content/Ring HN - TT cáp.csv'  # Use the same path as in Step 1\n",
        "df = pd.read_csv(csv_file_path)\n",
        "\n",
        "# Create a KML object\n",
        "kml = simplekml.Kml()\n",
        "\n",
        "# Define the columns to include in the extended data (including 'WKT')\n",
        "columns_to_include = ['WKT', 'Name', 'Near End', 'Far End', 'Cable Type', 'Cable length (km)',\n",
        "                      'Số lượng Măng xông', 'Số link mạng + Khách hàng', 'Số sợi sử dụng',\n",
        "                      'Số sợi khả dụng', 'Hạ tầng ngầm', 'Hạ tầng treo', 'mô tả', 'Link', 'Ghi chú']\n",
        "\n",
        "for index, row in df.iterrows():\n",
        "    # Extract the LineString data from the 'WKT' column\n",
        "    linestring_data = row['WKT']\n",
        "\n",
        "    # Extract coordinates using a regular expression\n",
        "    match = re.search(r\"LINESTRING \\(([^)]+)\\)\", linestring_data)\n",
        "    if match:\n",
        "        coordinates_str = match.group(1)\n",
        "        coordinate_sets = coordinates_str.split(\", \")\n",
        "        points = []\n",
        "        for coordinate_set in coordinate_sets:\n",
        "            coordinates = coordinate_set.split()\n",
        "            points.append(tuple(map(float, coordinates)))\n",
        "\n",
        "        # Create a LineString in KML with the extracted points\n",
        "        ls = kml.newlinestring(name=f\"LineString {index}\")\n",
        "        ls.coords = points\n",
        "\n",
        "        # Add all desired columns to extended data\n",
        "        for column_name in columns_to_include:\n",
        "            value = row[column_name]\n",
        "            # Convert value to string if it's not already\n",
        "            if not isinstance(value, str):\n",
        "                value = str(value)\n",
        "            # Escape special characters in the value\n",
        "            escaped_value = xml.sax.saxutils.escape(value)\n",
        "            ls.extendeddata.newdata(name=column_name, value=escaped_value)\n",
        "\n",
        "# Save the KML file\n",
        "kml.save('linestrings.kml')\n",
        "\n",
        "print(\"KML file 'linestrings.kml' created successfully!\")"
      ],
      "cell_type": "code",
      "metadata": {
        "colab": {
          "base_uri": "https://localhost:8080/"
        },
        "id": "LjVpXjxackwT",
        "outputId": "869c0bd7-29a9-4486-9d32-8334c2af99ae"
      },
      "execution_count": 42,
      "outputs": [
        {
          "output_type": "stream",
          "name": "stdout",
          "text": [
            "Requirement already satisfied: pandas in /usr/local/lib/python3.11/dist-packages (2.2.2)\n",
            "Requirement already satisfied: simplekml in /usr/local/lib/python3.11/dist-packages (1.3.6)\n",
            "Requirement already satisfied: shapely in /usr/local/lib/python3.11/dist-packages (2.0.7)\n",
            "Requirement already satisfied: numpy>=1.23.2 in /usr/local/lib/python3.11/dist-packages (from pandas) (1.26.4)\n",
            "Requirement already satisfied: python-dateutil>=2.8.2 in /usr/local/lib/python3.11/dist-packages (from pandas) (2.8.2)\n",
            "Requirement already satisfied: pytz>=2020.1 in /usr/local/lib/python3.11/dist-packages (from pandas) (2025.1)\n",
            "Requirement already satisfied: tzdata>=2022.7 in /usr/local/lib/python3.11/dist-packages (from pandas) (2025.1)\n",
            "Requirement already satisfied: six>=1.5 in /usr/local/lib/python3.11/dist-packages (from python-dateutil>=2.8.2->pandas) (1.17.0)\n",
            "KML file 'linestrings.kml' created successfully!\n"
          ]
        }
      ]
    },
    {
      "source": [
        "import pandas as pd\n",
        "\n",
        "# Create a dictionary to store the data\n",
        "data = {\n",
        "    'WKT': [],\n",
        "    'Name': [],\n",
        "    'Near End': [],\n",
        "    'Far End': [],\n",
        "    'Cable Type': [],\n",
        "    'Cable length (km)': [],\n",
        "    'Số lượng Măng xông': [],\n",
        "    'Số link mạng + Khách hàng': [],\n",
        "    'Số sợi sử dụng': [],\n",
        "    'Số sợi khả dụng': [],\n",
        "    'Hạ tầng ngầm': [],\n",
        "    'Hạ tầng treo': [],\n",
        "    'mô tả': [],\n",
        "    'Link': [],\n",
        "    'Ghi chú': []\n",
        "}\n",
        "\n",
        "# Get input from the user for each column\n",
        "while True:\n",
        "    wkt = input(\"Enter WKT (or type 'done' to finish): \")\n",
        "    if wkt.lower() == 'done':\n",
        "        break\n",
        "    data['WKT'].append(wkt)\n",
        "    data['Name'].append(input(\"Enter Name: \"))\n",
        "    data['Near End'].append(input(\"Enter Near End: \"))\n",
        "    data['Far End'].append(input(\"Enter Far End: \"))\n",
        "    data['Cable Type'].append(input(\"Enter Cable Type: \"))\n",
        "    data['Cable length (km)'].append(float(input(\"Enter Cable length (km): \")))\n",
        "    data['Số lượng Măng xông'].append(int(input(\"Enter Số lượng Măng xông: \")))\n",
        "    data['Số link mạng + Khách hàng'].append(int(input(\"Enter Số link mạng + Khách hàng: \")))\n",
        "    data['Số sợi sử dụng'].append(int(input(\"Enter Số sợi sử dụng: \")))\n",
        "    data['Số sợi khả dụng'].append(int(input(\"Enter Số sợi khả dụng: \")))\n",
        "    data['Hạ tầng ngầm'].append(input(\"Enter Hạ tầng ngầm: \"))\n",
        "    data['Hạ tầng treo'].append(input(\"Enter Hạ tầng treo: \"))\n",
        "    data['mô tả'].append(input(\"Enter mô tả: \"))\n",
        "    data['Link'].append(input(\"Enter Link: \"))\n",
        "    data['Ghi chú'].append(input(\"Enter Ghi chú: \"))\n",
        "\n",
        "# Create a DataFrame from the data\n",
        "df = pd.DataFrame(data)\n",
        "\n",
        "# Save the DataFrame to a CSV file\n",
        "csv_file_path = '/content/Ring HN - TT cáp.csv'\n",
        "df.to_csv(csv_file_path, index=False)\n",
        "\n",
        "print(f\"CSV file '{csv_file_path}' created.\")"
      ],
      "cell_type": "code",
      "metadata": {
        "colab": {
          "base_uri": "https://localhost:8080/"
        },
        "id": "lUl1mZFsdMfJ",
        "outputId": "7bffb457-dd77-454b-f1e1-60cc6fd69e7d"
      },
      "execution_count": 44,
      "outputs": [
        {
          "output_type": "stream",
          "name": "stdout",
          "text": [
            "Enter WKT (or type 'done' to finish): LINESTRING (105.772205 21.03649 0.0, 105.772181 21.036426 0.0, 105.772602 21.036302 0.0, 105.772648 21.036202 0.0, 105.773076 21.036066 0.0, 105.773191 21.036094 0.0, 105.77318 21.036024 0.0, 105.773254 21.036009 0.0, 105.772824 21.03465 0.0, 105.773057 21.034437 0.0, 105.773312 21.034191 0.0, 105.773409 21.034231 0.0, 105.773571 21.034852 0.0, 105.773642 21.034843 0.0, 105.773968 21.035882 0.0, 105.774808 21.035693 0.0, 105.774917 21.035637 0.0, 105.774991 21.035516 0.0, 105.77512 21.035338 0.0, 105.77538 21.035209 0.0, 105.775641 21.035068 0.0, 105.775921 21.034993 0.0, 105.77611 21.034994 0.0, 105.776285 21.034929 0.0, 105.776438 21.034895 0.0, 105.776572 21.034893 0.0, 105.777141 21.034829 0.0, 105.777582 21.03475 0.0, 105.777946 21.034746 0.0, 105.778063 21.034713 0.0, 105.778257 21.034675 0.0, 105.778505 21.0346 0.0)\n",
            "Enter Name: Số 1 Lê Đức Thọ - MX 8FO Ngõ 58 Trần Bình(Hướng 2)\n",
            "Enter Near End: PM Tầng 3 số 1, Lê Đức Thọ, Cầu Giấy, Hà Nội\n",
            "Enter Far End: MX 8FO Ngõ 58 Trần Bình\n",
            "Enter Cable Type: 8\n",
            "Enter Cable length (km): 1.45\n",
            "Enter Số lượng Măng xông: 3\n",
            "Enter Số link mạng + Khách hàng: 1\n",
            "Enter Số sợi sử dụng: 1\n",
            "Enter Số sợi khả dụng: 7\n",
            "Enter Hạ tầng ngầm: 0.2\n",
            "Enter Hạ tầng treo: 1.25\n",
            "Enter mô tả: abcn\n",
            "Enter Link: hh\n",
            "Enter Ghi chú: kjhj\n",
            "Enter WKT (or type 'done' to finish): done\n",
            "CSV file '/content/Ring HN - TT cáp.csv' created.\n"
          ]
        }
      ]
    },
    {
      "cell_type": "code",
      "source": [],
      "metadata": {
        "id": "m9LZvKTjdxrj"
      },
      "execution_count": null,
      "outputs": []
    },
    {
      "source": [
        "!pip install pandas simplekml shapely\n",
        "\n",
        "import pandas as pd\n",
        "import simplekml\n",
        "from shapely import wkt\n",
        "import re\n",
        "import xml.sax.saxutils  # Import the saxutils module for escaping\n",
        "\n",
        "# Read the CSV file\n",
        "csv_file_path = '/content/Ring HN - TT cáp.csv'  # Use the same path as in Step 1\n",
        "df = pd.read_csv(csv_file_path)\n",
        "\n",
        "# Create a KML object\n",
        "kml = simplekml.Kml()\n",
        "\n",
        "# Define the columns to include in the extended data (including 'WKT')\n",
        "columns_to_include = ['WKT', 'Name', 'Near End', 'Far End', 'Cable Type', 'Cable length (km)',\n",
        "                      'Số lượng Măng xông', 'Số link mạng + Khách hàng', 'Số sợi sử dụng',\n",
        "                      'Số sợi khả dụng', 'Hạ tầng ngầm', 'Hạ tầng treo', 'mô tả', 'Link', 'Ghi chú']\n",
        "\n",
        "for index, row in df.iterrows():\n",
        "    # Extract the LineString data from the 'WKT' column\n",
        "    linestring_data = row['WKT']\n",
        "\n",
        "    # Extract coordinates using a regular expression\n",
        "    match = re.search(r\"LINESTRING \\(([^)]+)\\)\", linestring_data)\n",
        "    if match:\n",
        "        coordinates_str = match.group(1)\n",
        "        coordinate_sets = coordinates_str.split(\", \")\n",
        "        points = []\n",
        "        for coordinate_set in coordinate_sets:\n",
        "            coordinates = coordinate_set.split()\n",
        "            points.append(tuple(map(float, coordinates)))\n",
        "\n",
        "        # Create a LineString in KML with the extracted points\n",
        "        ls = kml.newlinestring(name=f\"LineString {index}\")\n",
        "        ls.coords = points\n",
        "\n",
        "        # Add all desired columns to extended data\n",
        "        for column_name in columns_to_include:\n",
        "            value = row[column_name]\n",
        "            # Convert value to string if it's not already\n",
        "            if not isinstance(value, str):\n",
        "                value = str(value)\n",
        "            # Escape special characters in the value\n",
        "            escaped_value = xml.sax.saxutils.escape(value)\n",
        "            ls.extendeddata.newdata(name=column_name, value=escaped_value)\n",
        "\n",
        "# Save the KML file\n",
        "kml.save('linestrings.kml')\n",
        "\n",
        "print(\"KML file 'linestrings.kml' created successfully!\")"
      ],
      "cell_type": "code",
      "metadata": {
        "colab": {
          "base_uri": "https://localhost:8080/"
        },
        "outputId": "591ce878-b493-40d4-da53-e18f7228b306",
        "id": "J51j09uKdx7Z"
      },
      "execution_count": 45,
      "outputs": [
        {
          "output_type": "stream",
          "name": "stdout",
          "text": [
            "Requirement already satisfied: pandas in /usr/local/lib/python3.11/dist-packages (2.2.2)\n",
            "Requirement already satisfied: simplekml in /usr/local/lib/python3.11/dist-packages (1.3.6)\n",
            "Requirement already satisfied: shapely in /usr/local/lib/python3.11/dist-packages (2.0.7)\n",
            "Requirement already satisfied: numpy>=1.23.2 in /usr/local/lib/python3.11/dist-packages (from pandas) (1.26.4)\n",
            "Requirement already satisfied: python-dateutil>=2.8.2 in /usr/local/lib/python3.11/dist-packages (from pandas) (2.8.2)\n",
            "Requirement already satisfied: pytz>=2020.1 in /usr/local/lib/python3.11/dist-packages (from pandas) (2025.1)\n",
            "Requirement already satisfied: tzdata>=2022.7 in /usr/local/lib/python3.11/dist-packages (from pandas) (2025.1)\n",
            "Requirement already satisfied: six>=1.5 in /usr/local/lib/python3.11/dist-packages (from python-dateutil>=2.8.2->pandas) (1.17.0)\n",
            "KML file 'linestrings.kml' created successfully!\n"
          ]
        }
      ]
    },
    {
      "source": [
        "import pandas as pd\n",
        "\n",
        "# Create a dictionary to store the data\n",
        "data = {\n",
        "    'WKT': [],\n",
        "    'Name': [],\n",
        "    'Near End': [],\n",
        "    'Far End': [],\n",
        "    'Cable Type': [],\n",
        "    'Cable length (km)': [],\n",
        "    'Số lượng Măng xông': [],\n",
        "    'Số link mạng + Khách hàng': [],\n",
        "    'Số sợi sử dụng': [],\n",
        "    'Số sợi khả dụng': [],\n",
        "    'Hạ tầng ngầm': [],\n",
        "    'Hạ tầng treo': [],\n",
        "    'mô tả': [],\n",
        "    'Link': [],\n",
        "    'Ghi chú': []\n",
        "}\n",
        "\n",
        "# Get input for multiple lines\n",
        "print(\"Enter data for each column, separated by commas. Press Enter twice to finish.\")\n",
        "while True:\n",
        "    line = input()\n",
        "    if not line:  # Empty line to signal end of input\n",
        "        break\n",
        "\n",
        "    # Split the line into values\n",
        "    values = line.split(\",\")\n",
        "\n",
        "    # Check if the number of values matches the number of columns\n",
        "    if len(values) != len(data):\n",
        "        print(\"Incorrect number of values. Please enter data for all columns.\")\n",
        "        continue\n",
        "\n",
        "    # Assign values to the dictionary\n",
        "    data['WKT'].append(values[0].strip())\n",
        "    data['Name'].append(values[1].strip())\n",
        "    data['Near End'].append(values[2].strip())\n",
        "    data['Far End'].append(values[3].strip())\n",
        "    data['Cable Type'].append(values[4].strip())\n",
        "    data['Cable length (km)'].append(float(values[5].strip()))\n",
        "    data['Số lượng Măng xông'].append(int(values[6].strip()))\n",
        "    data['Số link mạng + Khách hàng'].append(int(values[7].strip()))\n",
        "    data['Số sợi sử dụng'].append(int(values[8].strip()))\n",
        "    data['Số sợi khả dụng'].append(int(values[9].strip()))\n",
        "    data['Hạ tầng ngầm'].append(values[10].strip())\n",
        "    data['Hạ tầng treo'].append(values[11].strip())\n",
        "    data['mô tả'].append(values[12].strip())\n",
        "    data['Link'].append(values[13].strip())\n",
        "    data['Ghi chú'].append(values[14].strip())\n",
        "\n",
        "# Create a DataFrame from the data\n",
        "df = pd.DataFrame(data)\n",
        "\n",
        "# Save the DataFrame to a CSV file\n",
        "csv_file_path = '/content/Ring HN - TT cáp.csv'\n",
        "df.to_csv(csv_file_path, index=False)\n",
        "\n",
        "print(f\"CSV file '{csv_file_path}' created.\")"
      ],
      "cell_type": "code",
      "metadata": {
        "colab": {
          "base_uri": "https://localhost:8080/"
        },
        "id": "PKaZJUVAfiNV",
        "outputId": "5675c5c3-e3eb-4afa-c7bd-49844e0bf6c7"
      },
      "execution_count": null,
      "outputs": [
        {
          "output_type": "stream",
          "name": "stdout",
          "text": [
            "Enter data for each column, separated by commas. Press Enter twice to finish.\n"
          ]
        }
      ]
    }
  ]
}