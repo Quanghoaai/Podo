{
  "nbformat": 4,
  "nbformat_minor": 0,
  "metadata": {
    "colab": {
      "provenance": [],
      "authorship_tag": "ABX9TyN7iR+Z4uRuIGzm3gur2wMT",
      "include_colab_link": true
    },
    "kernelspec": {
      "name": "python3",
      "display_name": "Python 3"
    },
    "language_info": {
      "name": "python"
    }
  },
  "cells": [
    {
      "cell_type": "markdown",
      "metadata": {
        "id": "view-in-github",
        "colab_type": "text"
      },
      "source": [
        "<a href=\"https://colab.research.google.com/github/Quanghoaai/Podo/blob/main/QH_Youtube_video_mp3_transcript_downloader.ipynb\" target=\"_parent\"><img src=\"https://colab.research.google.com/assets/colab-badge.svg\" alt=\"Open In Colab\"/></a>"
      ]
    },
    {
      "cell_type": "code",
      "source": [
        "# Install yt-dlp library\n",
        "!pip install yt-dlp\n",
        "\n",
        "def Downloader():\n",
        "    import yt_dlp  # Import the yt-dlp library\n",
        "\n",
        "    # Take input from the user\n",
        "    url = input(\"Please paste your YouTube link: \")  # URL of the YouTube video\n",
        "    MediaType = input(\"Mp3 or Mp4? (Type 'mp3' or 'mp4'): \").lower()  # Specify whether to download mp3 or mp4\n",
        "    path = \"/content/sample_data\"  # Path where the file will be saved in Google Colab\n",
        "\n",
        "    try:\n",
        "        if MediaType == 'mp4':\n",
        "            print(\"Mp4 file is downloading...\")\n",
        "            ydl_opts = {\n",
        "                'format': 'bestvideo+bestaudio/best',  # Download the best video + audio quality\n",
        "                'outtmpl': f'{path}/video.%(ext)s',  # Output file name\n",
        "            }\n",
        "        elif MediaType == 'mp3':\n",
        "            print(\"Mp3 file is downloading...\")\n",
        "            ydl_opts = {\n",
        "                'format': 'bestaudio/best',  # Download the best audio quality\n",
        "                'postprocessors': [{\n",
        "                    'key': 'FFmpegExtractAudio',\n",
        "                    'preferredcodec': 'mp3',  # Convert to MP3\n",
        "                    'preferredquality': '192',  # Audio quality\n",
        "                }],\n",
        "                'outtmpl': f'{path}/audio.%(ext)s',  # Output file name\n",
        "            }\n",
        "        else:\n",
        "            return \"Invalid media type. Please type 'mp3' or 'mp4'.\"\n",
        "\n",
        "        # Download the file using yt-dlp\n",
        "        with yt_dlp.YoutubeDL(ydl_opts) as ydl:\n",
        "            ydl.download([url])\n",
        "\n",
        "    except Exception as e:\n",
        "        import traceback\n",
        "        traceback.print_exc()\n",
        "        return f\"An error occurred: {e}\"\n",
        "\n",
        "    return 'Download finished.'\n",
        "\n",
        "# Call the function to start downloading\n",
        "Downloader()"
      ],
      "metadata": {
        "colab": {
          "base_uri": "https://localhost:8080/",
          "height": 338
        },
        "id": "Lty4EELiHhWq",
        "outputId": "6b7532a0-8ae6-4916-ec1e-66c8362a3634"
      },
      "execution_count": 5,
      "outputs": [
        {
          "output_type": "stream",
          "name": "stdout",
          "text": [
            "Requirement already satisfied: yt-dlp in /usr/local/lib/python3.11/dist-packages (2025.1.26)\n",
            "Please paste your YouTube link: https://www.youtube.com/watch?v=PVLcXfok2U8\n",
            "Mp3 or Mp4? (Type 'mp3' or 'mp4'): mp3\n",
            "Mp3 file is downloading...\n",
            "[youtube] Extracting URL: https://www.youtube.com/watch?v=PVLcXfok2U8\n",
            "[youtube] PVLcXfok2U8: Downloading webpage\n",
            "[youtube] PVLcXfok2U8: Downloading tv client config\n",
            "[youtube] PVLcXfok2U8: Downloading player e7567ecf\n",
            "[youtube] PVLcXfok2U8: Downloading tv player API JSON\n",
            "[youtube] PVLcXfok2U8: Downloading ios player API JSON\n",
            "[youtube] PVLcXfok2U8: Downloading m3u8 information\n",
            "[info] PVLcXfok2U8: Downloading 1 format(s): 251\n",
            "[download] Destination: /content/sample_data/audio.webm\n",
            "[download] 100% of   46.23MiB in 00:00:03 at 13.64MiB/s  \n",
            "[ExtractAudio] Destination: /content/sample_data/audio.mp3\n",
            "Deleting original file /content/sample_data/audio.webm (pass -k to keep)\n"
          ]
        },
        {
          "output_type": "execute_result",
          "data": {
            "text/plain": [
              "'Download finished.'"
            ],
            "application/vnd.google.colaboratory.intrinsic+json": {
              "type": "string"
            }
          },
          "metadata": {},
          "execution_count": 5
        }
      ]
    },
    {
      "source": [
        "# Install yt-dlp library\n",
        "!pip install yt-dlp\n",
        "\n",
        "def Downloader():\n",
        "    import yt_dlp  # Import the yt-dlp library\n",
        "\n",
        "    # Take input from the user\n",
        "    url = input(\"Please paste your YouTube link: \")  # URL of the YouTube video\n",
        "    MediaType = input(\"Mp3, Mp4, or Transcript? (Type 'mp3', 'mp4', or 'transcript'): \").lower()  # Specify whether to download mp3 or mp4\n",
        "    path = \"/content/sample_data\"  # Path where the file will be saved in Google Colab\n",
        "\n",
        "    try:\n",
        "        if MediaType == 'mp4':\n",
        "            print(\"Mp4 file is downloading...\")\n",
        "            ydl_opts = {\n",
        "                'format': 'bestvideo+bestaudio/best',  # Download the best video + audio quality\n",
        "                'outtmpl': f'{path}/video.%(ext)s',  # Output file name\n",
        "            }\n",
        "        elif MediaType == 'mp3':\n",
        "            print(\"Mp3 file is downloading...\")\n",
        "            ydl_opts = {\n",
        "                'format': 'bestaudio/best',  # Download the best audio quality\n",
        "                'postprocessors': [{\n",
        "                    'key': 'FFmpegExtractAudio',\n",
        "                    'preferredcodec': 'mp3',  # Convert to MP3\n",
        "                    'preferredquality': '192',  # Audio quality\n",
        "                }],\n",
        "                'outtmpl': f'{path}/audio.%(ext)s',  # Output file name\n",
        "            }\n",
        "        elif MediaType == 'transcript':\n",
        "            print(\"Transcript file is downloading...\")\n",
        "            ydl_opts = {\n",
        "                'writesubtitles': True,  # Download subtitles\n",
        "                'writeautomaticsub': True, # Download auto-generated subtitles if available\n",
        "                'skip_download': True,  # Skip video/audio download\n",
        "                'subtitleslangs': ['en'],  # Specify language (English in this case)\n",
        "                'outtmpl': f'{path}/transcript.%(ext)s',  # Output file name\n",
        "            }\n",
        "        else:\n",
        "            return \"Invalid media type. Please type 'mp3', 'mp4', or 'transcript'.\"\n",
        "\n",
        "        # Download the file using yt-dlp\n",
        "        with yt_dlp.YoutubeDL(ydl_opts) as ydl:\n",
        "            ydl.download([url])\n",
        "\n",
        "    except Exception as e:\n",
        "        import traceback\n",
        "        traceback.print_exc()\n",
        "        return f\"An error occurred: {e}\"\n",
        "\n",
        "    return 'Download finished.'\n",
        "\n",
        "# Call the function to start downloading\n",
        "Downloader()"
      ],
      "cell_type": "code",
      "metadata": {
        "colab": {
          "base_uri": "https://localhost:8080/",
          "height": 338
        },
        "id": "_3fgs9ZrLPl4",
        "outputId": "dedbacf1-eac0-4670-90a2-1e4bef8f566a"
      },
      "execution_count": 6,
      "outputs": [
        {
          "output_type": "stream",
          "name": "stdout",
          "text": [
            "Requirement already satisfied: yt-dlp in /usr/local/lib/python3.11/dist-packages (2025.1.26)\n",
            "Please paste your YouTube link: https://www.youtube.com/watch?v=DcGz5Fg74og\n",
            "Mp3, Mp4, or Transcript? (Type 'mp3', 'mp4', or 'transcript'): transcript\n",
            "Transcript file is downloading...\n",
            "[youtube] Extracting URL: https://www.youtube.com/watch?v=DcGz5Fg74og\n",
            "[youtube] DcGz5Fg74og: Downloading webpage\n",
            "[youtube] DcGz5Fg74og: Downloading tv client config\n",
            "[youtube] DcGz5Fg74og: Downloading player e7567ecf\n",
            "[youtube] DcGz5Fg74og: Downloading tv player API JSON\n",
            "[youtube] DcGz5Fg74og: Downloading ios player API JSON\n",
            "[youtube] DcGz5Fg74og: Downloading m3u8 information\n",
            "[info] DcGz5Fg74og: Downloading subtitles: en\n",
            "[info] DcGz5Fg74og: Downloading 1 format(s): 248+251\n",
            "[info] Writing video subtitles to: /content/sample_data/transcript.en.vtt\n",
            "[download] Destination: /content/sample_data/transcript.en.vtt\n",
            "[download] 100% of  273.97KiB in 00:00:00 at 826.16KiB/s\n"
          ]
        },
        {
          "output_type": "execute_result",
          "data": {
            "text/plain": [
              "'Download finished.'"
            ],
            "application/vnd.google.colaboratory.intrinsic+json": {
              "type": "string"
            }
          },
          "metadata": {},
          "execution_count": 6
        }
      ]
    }
  ]
}