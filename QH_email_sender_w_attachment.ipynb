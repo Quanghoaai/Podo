{
  "nbformat": 4,
  "nbformat_minor": 0,
  "metadata": {
    "colab": {
      "provenance": [],
      "authorship_tag": "ABX9TyNgxUonrkTgZCzgn5J+aim6",
      "include_colab_link": true
    },
    "kernelspec": {
      "name": "python3",
      "display_name": "Python 3"
    },
    "language_info": {
      "name": "python"
    }
  },
  "cells": [
    {
      "cell_type": "markdown",
      "metadata": {
        "id": "view-in-github",
        "colab_type": "text"
      },
      "source": [
        "<a href=\"https://colab.research.google.com/github/Quanghoaai/Podo/blob/main/QH_email_sender_w_attachment.ipynb\" target=\"_parent\"><img src=\"https://colab.research.google.com/assets/colab-badge.svg\" alt=\"Open In Colab\"/></a>"
      ]
    },
    {
      "cell_type": "markdown",
      "source": [
        "##**Yêu cầu** **bold text**\n",
        "Many things you can do with Python also you can send email. This is what i use often.\n",
        "\n",
        "When creating a project, not possible to wait to much so i need a notice from Python also i want to see output but i couldn’t find a code for sending email with attachment. This is why i wrote this blog. With few steps and less code you can implement this code block to your project easily.\n",
        "\n",
        "Before coding you need to activate your two factor authentication from https://myaccount.google.com/security. You can see the screen below. There is a one app password, it is Python :)\n",
        "\n",
        "When you click “App passwords” , you need to verify your account.\n",
        "\n",
        "=>App password: https://myaccount.google.com/apppasswords?pli=1&rapt=AEjHL4NtmMAsxx76zt9Q0djcvcjlm94wPrkqfHB8MaY8BGD8Tv4OsamLsLYzRYzDpALNzG0xTGhjZvw0FkX2y6yZE8dBo_D8Qbnvxsr6suNSlOHdx8aFGMg\n",
        "\n",
        "Just one step left, from the “Choose application” select other and just write”Python”.\n",
        "\n",
        "When you enter you will see like me.Click to Python and see your app password. I will blure this password part but copy this password to your notebook. Not try to copy my password :)\n",
        "\n",
        "=>Ghi lại pass sau khi tạo\n",
        "\n",
        "That’s it. We can pass to coding part. As always i will continue with Google Colab. You can write wherever you want.\n",
        "\n",
        "\n"
      ],
      "metadata": {
        "id": "csfI6Fg_DIwD"
      }
    },
    {
      "cell_type": "code",
      "execution_count": 1,
      "metadata": {
        "id": "u-4stq2tB84V"
      },
      "outputs": [],
      "source": [
        "\n",
        "import smtplib #import necessary libraries\n",
        "from email.message import EmailMessage"
      ]
    },
    {
      "cell_type": "code",
      "source": [
        "email_sender='nguyenquanghoaai@gmail.com' #Sender email\n",
        "email_password='cmyjhreirtycgwpi'#password whichone take from google account.\n",
        "email_reciever='nguyenquanghoaai@gmail.com' # email reciever\n",
        "subject='Send mail with Python!' # your mail subject\n",
        "content='Please look at attached file' # email content(you can add .txt file in here.)"
      ],
      "metadata": {
        "id": "j85T0B98CGxW"
      },
      "execution_count": 2,
      "outputs": []
    },
    {
      "cell_type": "code",
      "source": [
        "send_mail_with_attachment(email_reciever,subject,content,'/content/sample_data/time_log.csv')"
      ],
      "metadata": {
        "id": "2wEfTqRAClUC"
      },
      "execution_count": 4,
      "outputs": []
    },
    {
      "cell_type": "code",
      "source": [
        "def send_mail_with_attachment(email_reciever, subject, content, excel_file):\n",
        "    msg = EmailMessage()\n",
        "    msg['Subject'] = subject # definitaion of subject\n",
        "    msg['From'] = email_sender # definitaion of sender\n",
        "    msg['To'] = email_reciever # definitaion of reciever\n",
        "    msg.set_content(content) # setting content\n",
        "    with open(excel_file, 'rb') as f:\n",
        "        file_data = f.read() # reading of excel file, you can change this to csv,txt,png..\n",
        "    msg.add_attachment(file_data, maintype=\"application\", subtype=\"xlsx\", filename=excel_file)# add attachment part.need to optimize for your file.\n",
        "\n",
        "    with smtplib.SMTP_SSL('smtp.gmail.com',465) as smtp:# our port is 465 for mail.\n",
        "        smtp.login(email_sender, email_password) # login to gmail.\n",
        "        smtp.send_message(msg)#sending to email"
      ],
      "metadata": {
        "id": "avj_kpGeCgn2"
      },
      "execution_count": 3,
      "outputs": []
    }
  ]
}